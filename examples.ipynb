{
 "cells": [
  {
   "cell_type": "code",
   "execution_count": 1,
   "id": "024c6663-81d7-4497-bcda-3b0206563024",
   "metadata": {},
   "outputs": [],
   "source": [
    "from WeightedProjTools import *"
   ]
  },
  {
   "cell_type": "markdown",
   "id": "201777c0-a59e-4a85-8a46-e4cd4c7ea9ae",
   "metadata": {},
   "source": [
    "## Weights"
   ]
  },
  {
   "cell_type": "markdown",
   "id": "52e4a544-1487-422d-b597-1631ade33953",
   "metadata": {},
   "source": [
    "Let's create a Weights object corresponding to $a=(a_0,\\dots, a_n)$"
   ]
  },
  {
   "cell_type": "code",
   "execution_count": 2,
   "id": "ee5dd7b7-7620-4df0-895f-4bc29c9941e7",
   "metadata": {},
   "outputs": [
    {
     "data": {
      "text/plain": [
       "array([10, 25, 30, 40])"
      ]
     },
     "execution_count": 2,
     "metadata": {},
     "output_type": "execute_result"
    }
   ],
   "source": [
    "a = Weights([40, 25, 30, 10])\n",
    "a.weights  # notice that weights reorder"
   ]
  },
  {
   "cell_type": "markdown",
   "id": "8026a36f-b386-45a7-bb90-610e4467b88e",
   "metadata": {},
   "source": [
    "The class `Weights` has several instance attributes. Let's go through them one by one. "
   ]
  },
  {
   "cell_type": "markdown",
   "id": "41303148-eea5-4f08-a22e-1d9316c1a908",
   "metadata": {},
   "source": [
    "Let's see its greatest common divisor (GCD) $k=\\gcd(a_0,\\dots,a_n)$"
   ]
  },
  {
   "cell_type": "code",
   "execution_count": 3,
   "id": "87a7b617-ee3e-4fea-98a5-0922d6f916d1",
   "metadata": {},
   "outputs": [
    {
     "data": {
      "text/plain": [
       "array(5)"
      ]
     },
     "execution_count": 3,
     "metadata": {},
     "output_type": "execute_result"
    }
   ],
   "source": [
    "a.pgcd"
   ]
  },
  {
   "cell_type": "markdown",
   "id": "9c6046e8-ade3-4548-b929-7beb136b43f5",
   "metadata": {},
   "source": [
    "Reduce the weights to $a'=a/k$"
   ]
  },
  {
   "cell_type": "code",
   "execution_count": 4,
   "id": "8f034507-8c3b-4bb1-b1cf-a36bfaf164a0",
   "metadata": {},
   "outputs": [
    {
     "data": {
      "text/plain": [
       "array([2, 5, 6, 8])"
      ]
     },
     "execution_count": 4,
     "metadata": {},
     "output_type": "execute_result"
    }
   ],
   "source": [
    "a.reduced_weights"
   ]
  },
  {
   "cell_type": "markdown",
   "id": "89467794-4c25-4a17-8e04-289bfb6a74c9",
   "metadata": {},
   "source": [
    "Calculate $s_i = \\gcd(a_0',\\dots,a_{i-1}',a_{i+1}',\\dots,a_n')$ and save them in a list $S=(s_0,\\dots,s_n)$"
   ]
  },
  {
   "cell_type": "code",
   "execution_count": 5,
   "id": "80a5d51e-0158-4642-9afe-54c30c1b9f60",
   "metadata": {},
   "outputs": [
    {
     "data": {
      "text/plain": [
       "array([1, 2, 1, 1])"
      ]
     },
     "execution_count": 5,
     "metadata": {},
     "output_type": "execute_result"
    }
   ],
   "source": [
    "a.S"
   ]
  },
  {
   "cell_type": "markdown",
   "id": "7af50380-1fde-4b73-9962-b1627386d7fa",
   "metadata": {},
   "source": [
    "Calculate the least common multiple (LCM) of the subarrays of $S$: $q_i=\\operatorname{lcm}(s_0,\\dots,s_{i-1},s_{i+1},\\dots,s_n)$ and save them in a list $Q=(q_0,\\dots,q_n)$"
   ]
  },
  {
   "cell_type": "code",
   "execution_count": 6,
   "id": "3553555e-d648-4621-a189-445f7bed168f",
   "metadata": {},
   "outputs": [
    {
     "data": {
      "text/plain": [
       "array([2, 1, 2, 2])"
      ]
     },
     "execution_count": 6,
     "metadata": {},
     "output_type": "execute_result"
    }
   ],
   "source": [
    "a.Q"
   ]
  },
  {
   "cell_type": "markdown",
   "id": "af6e103a-50c8-4778-9e5f-78ffd6e4f240",
   "metadata": {},
   "source": [
    "Now we can compute the well-formed weights $\\bar{a}=(a'_0/q_0,\\dots,a'_n/q_n)$"
   ]
  },
  {
   "cell_type": "code",
   "execution_count": 7,
   "id": "b2a9073f-1663-4bd8-a5a6-db0c5d1d40a8",
   "metadata": {},
   "outputs": [
    {
     "data": {
      "text/plain": [
       "array([1, 5, 3, 4])"
      ]
     },
     "execution_count": 7,
     "metadata": {},
     "output_type": "execute_result"
    }
   ],
   "source": [
    "a.wellformed_weights"
   ]
  },
  {
   "cell_type": "markdown",
   "id": "37c134a2-5a89-4e94-9a46-392d71f7f358",
   "metadata": {},
   "source": [
    "`Weights` also have an instance attribute that stores $q=\\gcd(S)$. It is useful for degree reduction later."
   ]
  },
  {
   "cell_type": "code",
   "execution_count": 8,
   "id": "2b3156d8-c5d8-4c48-afd1-bd9dc08c63df",
   "metadata": {},
   "outputs": [
    {
     "data": {
      "text/plain": [
       "array(2)"
      ]
     },
     "execution_count": 8,
     "metadata": {},
     "output_type": "execute_result"
    }
   ],
   "source": [
    "a.q"
   ]
  },
  {
   "cell_type": "markdown",
   "id": "aaf2eda1-2a24-4fb9-a3cb-6ec1c59ff5e5",
   "metadata": {},
   "source": [
    "## Linear Systems"
   ]
  },
  {
   "cell_type": "markdown",
   "id": "1d3c2b1b-5568-4283-8b9a-4e41731dd7c3",
   "metadata": {},
   "source": [
    "The `LinearSystem` class keeps information about the linear systems $\\mathbb{C}_a[x_0,\\dots,x_n]$.\n",
    "\n",
    "$$\\mathcal{O}_a(kd')\\simeq\\mathcal{O}_{a'}(d')\\simeq\\mathcal{O}_{\\bar{a}}(\\varphi(d'))$$\n",
    "where $d=kd'$, and $$\\varphi(d')=(d'-\\sum_{i=0}^n b_i(d')a'_i)/q$$\n",
    "The $b_i(d')$ are uniquely determined as a solution to the following Diophantine equation $$d'=b_i(d')a'_i+c_i(d')s_i$$ under the condition $0\\leq b_i(d')<s_i$"
   ]
  },
  {
   "cell_type": "code",
   "execution_count": null,
   "id": "6f6087bf-181a-486e-b8b1-42e87668e27f",
   "metadata": {},
   "outputs": [],
   "source": [
    "a = Weights([40, 25, 30, 10])\n",
    "d = 100\n",
    "Cad = LinearSystem(a,d)"
   ]
  },
  {
   "cell_type": "markdown",
   "id": "3153303a",
   "metadata": {},
   "source": [
    "They have the following attributes"
   ]
  },
  {
   "cell_type": "code",
   "execution_count": null,
   "id": "abb3e03a",
   "metadata": {},
   "outputs": [],
   "source": [
    "Cad.W"
   ]
  },
  {
   "cell_type": "code",
   "execution_count": null,
   "id": "555107cb",
   "metadata": {},
   "outputs": [],
   "source": [
    "Cad.degree #d"
   ]
  },
  {
   "cell_type": "code",
   "execution_count": null,
   "id": "fce2d17c",
   "metadata": {},
   "outputs": [],
   "source": [
    "Cad.dim_before"
   ]
  },
  {
   "cell_type": "code",
   "execution_count": null,
   "id": "88baf627",
   "metadata": {},
   "outputs": [],
   "source": [
    "Cad.dim_after"
   ]
  }
 ],
 "metadata": {
  "kernelspec": {
   "display_name": "Python 3 (ipykernel)",
   "language": "python",
   "name": "python3"
  },
  "language_info": {
   "codemirror_mode": {
    "name": "ipython",
    "version": 3
   },
   "file_extension": ".py",
   "mimetype": "text/x-python",
   "name": "python",
   "nbconvert_exporter": "python",
   "pygments_lexer": "ipython3",
   "version": "3.13.2"
  }
 },
 "nbformat": 4,
 "nbformat_minor": 5
}
